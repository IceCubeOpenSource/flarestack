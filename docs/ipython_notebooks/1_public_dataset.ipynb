{
 "cells": [
  {
   "cell_type": "code",
   "execution_count": 14,
   "metadata": {},
   "outputs": [
    {
     "name": "stdout",
     "output_type": "stream",
     "text": [
      "{'IC79-2010': <flarestack.data.icecube.public.PublicICSeason object at 0x119cf0e48>, 'IC86-2011': <flarestack.data.icecube.public.PublicICSeason object at 0x119e189e8>, 'IC86-2012': <flarestack.data.icecube.public.PublicICSeason object at 0x119e189b0>}\n"
     ]
    }
   ],
   "source": [
    "%matplotlib inline\n",
    "import numpy as np\n",
    "import matplotlib.pyplot as plt\n",
    "from flarestack.data.icecube.public.all_sky_point_source.all_sky_3_year import ps_3_year\n",
    "print(ps_3_year.get_seasons())"
   ]
  },
  {
   "cell_type": "code",
   "execution_count": 15,
   "metadata": {},
   "outputs": [
    {
     "name": "stdout",
     "output_type": "stream",
     "text": [
      "<flarestack.data.icecube.public.PublicICSeason object at 0x119e189e8>\n"
     ]
    }
   ],
   "source": [
    "ic86_2011 = ps_3_year.seasons[\"IC86-2011\"]\n",
    "print(ic86_2011)"
   ]
  },
  {
   "cell_type": "code",
   "execution_count": 16,
   "metadata": {},
   "outputs": [
    {
     "name": "stdout",
     "output_type": "stream",
     "text": [
      "Loading from /Users/avocado/flarestack__data/input/public_datasets/all_sky_3_year/events/IC86-2011.npy\n",
      "('ra', 'dec', 'logE', 'sigma', 'time', 'sinDec', 'raw_sigma')\n",
      "[(4.23461382, -0.39490169, 4.5508, 0.00268955, 55694.99190987, -0.38471744, 0.00268955)\n",
      " (4.8018947 ,  0.68259303, 2.9629, 0.01568178, 55694.99825263,  0.63080718, 0.01568178)\n",
      " (1.61364241,  0.08201302, 2.8691, 0.00839678, 55695.00023208,  0.08192111, 0.00839678)\n",
      " ...\n",
      " (4.19143263,  0.90237537, 2.7867, 0.05283286, 56062.4089819 ,  0.78480125, 0.05283286)\n",
      " (4.29163897,  0.6465293 , 3.4172, 0.01287878, 56062.41103019,  0.6024198 , 0.01287878)\n",
      " (6.05525752,  1.171184  , 2.8363, 0.00240157, 56062.41621634,  0.92121189, 0.00240157)]\n"
     ]
    }
   ],
   "source": [
    "exp_data = ic86_2011.get_exp_data()\n",
    "print(exp_data.dtype.names)\n",
    "print(exp_data)"
   ]
  },
  {
   "cell_type": "code",
   "execution_count": 17,
   "metadata": {},
   "outputs": [
    {
     "data": {
      "text/plain": [
       "(array([15021., 15083., 14805., 15271., 14751., 16905., 14496., 12501.,\n",
       "         9898.,  7513.]),\n",
       " array([-9.99999714e-01, -7.99999812e-01, -5.99999909e-01, -4.00000006e-01,\n",
       "        -2.00000104e-01, -2.01119811e-07,  1.99999702e-01,  3.99999604e-01,\n",
       "         5.99999507e-01,  7.99999410e-01,  9.99999312e-01]),\n",
       " <a list of 10 Patch objects>)"
      ]
     },
     "execution_count": 17,
     "metadata": {},
     "output_type": "execute_result"
    },
    {
     "data": {
      "image/png": "[encoded data removed]",
      "text/plain": [
       "<Figure size 432x288 with 1 Axes>"
      ]
     },
     "metadata": {
      "needs_background": "light"
     },
     "output_type": "display_data"
    }
   ],
   "source": [
    "plt.hist(np.sin(exp_data[\"dec\"]))"
   ]
  },
  {
   "cell_type": "code",
   "execution_count": null,
   "metadata": {},
   "outputs": [],
   "source": []
  }
 ],
 "metadata": {
  "kernelspec": {
   "display_name": "fs_env",
   "language": "python",
   "name": "fs_env"
  },
  "language_info": {
   "codemirror_mode": {
    "name": "ipython",
    "version": 3
   },
   "file_extension": ".py",
   "mimetype": "text/x-python",
   "name": "python",
   "nbconvert_exporter": "python",
   "pygments_lexer": "ipython3",
   "version": "3.7.3"
  }
 },
 "nbformat": 4,
 "nbformat_minor": 2
}
