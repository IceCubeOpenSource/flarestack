{
 "cells": [
  {
   "cell_type": "markdown",
   "metadata": {},
   "source": [
    "We can study behaviour by creating a mock dataset. Here, we live in an idealised world with a near-perfect neutrino detector. We assume that it can measure true neutrino energy perfectly, but has effective areas comparable to IceCube. We only consider the northern sky, and assume we have a background of atmospheric neutrinos that follow an exact power law E$^{-3.7}$ between 100 GeV and 10 PeV (the energy range of our detector).  "
   ]
  },
  {
   "cell_type": "code",
   "execution_count": 1,
   "metadata": {},
   "outputs": [],
   "source": [
    "%matplotlib inline\n",
    "import matplotlib.pyplot as plt\n",
    "import numpy as np\n",
    "from flarestack.data.simulate.potemkin import potemkin_dataset, IdealBackgroundFluxModel\n",
    "from flarestack.shared import flux_to_k\n",
    "import logging\n",
    "from flarestack.data.public import icecube_ps_3_year\n",
    "logging.getLogger().setLevel(\"INFO\")"
   ]
  },
  {
   "cell_type": "code",
   "execution_count": 2,
   "metadata": {},
   "outputs": [
    {
     "name": "stderr",
     "output_type": "stream",
     "text": [
      "INFO:root:Minimum Energy is 100.0 GeV.\n",
      "INFO:root:Maximum Energy is 10000000.0 GeV\n",
      "INFO:root:Simulating events:\n",
      "INFO:root:Simulated 3681 events between sin(dec)=0.020408163265306145 and sin(dec)=0.06122448979591821\n",
      "INFO:root:Simulated 4491 events between sin(dec)=0.06122448979591821 and sin(dec)=0.1020408163265305\n",
      "INFO:root:Simulated 5503 events between sin(dec)=0.1020408163265305 and sin(dec)=0.1428571428571428\n",
      "INFO:root:Simulated 6435 events between sin(dec)=0.1428571428571428 and sin(dec)=0.18367346938775508\n",
      "INFO:root:Simulated 7353 events between sin(dec)=0.18367346938775508 and sin(dec)=0.22448979591836715\n",
      "INFO:root:Simulated 8231 events between sin(dec)=0.22448979591836715 and sin(dec)=0.26530612244897944\n",
      "INFO:root:Simulated 8880 events between sin(dec)=0.26530612244897944 and sin(dec)=0.30612244897959173\n",
      "INFO:root:Simulated 9425 events between sin(dec)=0.30612244897959173 and sin(dec)=0.346938775510204\n",
      "INFO:root:Simulated 9869 events between sin(dec)=0.346938775510204 and sin(dec)=0.3877551020408163\n",
      "INFO:root:Simulated 10100 events between sin(dec)=0.3877551020408163 and sin(dec)=0.4285714285714284\n",
      "INFO:root:Simulated 10242 events between sin(dec)=0.4285714285714284 and sin(dec)=0.46938775510204067\n",
      "INFO:root:Simulated 10217 events between sin(dec)=0.46938775510204067 and sin(dec)=0.510204081632653\n",
      "INFO:root:Simulated 10412 events between sin(dec)=0.510204081632653 and sin(dec)=0.5510204081632653\n",
      "INFO:root:Simulated 10606 events between sin(dec)=0.5510204081632653 and sin(dec)=0.5918367346938773\n",
      "INFO:root:Simulated 10633 events between sin(dec)=0.5918367346938773 and sin(dec)=0.6326530612244896\n",
      "INFO:root:Simulated 10866 events between sin(dec)=0.6326530612244896 and sin(dec)=0.6734693877551019\n",
      "INFO:root:Simulated 10971 events between sin(dec)=0.6734693877551019 and sin(dec)=0.7142857142857142\n",
      "INFO:root:Simulated 11069 events between sin(dec)=0.7142857142857142 and sin(dec)=0.7551020408163265\n",
      "INFO:root:Simulated 11283 events between sin(dec)=0.7551020408163265 and sin(dec)=0.7959183673469385\n",
      "INFO:root:Simulated 11237 events between sin(dec)=0.7959183673469385 and sin(dec)=0.8367346938775508\n",
      "INFO:root:Simulated 10923 events between sin(dec)=0.8367346938775508 and sin(dec)=0.8775510204081631\n",
      "INFO:root:Simulated 10778 events between sin(dec)=0.8775510204081631 and sin(dec)=0.9183673469387754\n",
      "INFO:root:Simulated 9588 events between sin(dec)=0.9183673469387754 and sin(dec)=0.9591836734693877\n",
      "INFO:root:Simulated 7617 events between sin(dec)=0.9591836734693877 and sin(dec)=1.0\n",
      "INFO:root:Simulated 220410 events in total\n",
      "INFO:root:Simulating events:\n",
      "INFO:root:Simulated 3607 events between sin(dec)=0.020408163265306145 and sin(dec)=0.06122448979591821\n",
      "INFO:root:Simulated 4450 events between sin(dec)=0.06122448979591821 and sin(dec)=0.1020408163265305\n",
      "INFO:root:Simulated 5502 events between sin(dec)=0.1020408163265305 and sin(dec)=0.1428571428571428\n",
      "INFO:root:Simulated 6467 events between sin(dec)=0.1428571428571428 and sin(dec)=0.18367346938775508\n",
      "INFO:root:Simulated 7194 events between sin(dec)=0.18367346938775508 and sin(dec)=0.22448979591836715\n",
      "INFO:root:Simulated 8346 events between sin(dec)=0.22448979591836715 and sin(dec)=0.26530612244897944\n",
      "INFO:root:Simulated 8985 events between sin(dec)=0.26530612244897944 and sin(dec)=0.30612244897959173\n",
      "INFO:root:Simulated 9301 events between sin(dec)=0.30612244897959173 and sin(dec)=0.346938775510204\n",
      "INFO:root:Simulated 9622 events between sin(dec)=0.346938775510204 and sin(dec)=0.3877551020408163\n",
      "INFO:root:Simulated 10033 events between sin(dec)=0.3877551020408163 and sin(dec)=0.4285714285714284\n",
      "INFO:root:Simulated 10217 events between sin(dec)=0.4285714285714284 and sin(dec)=0.46938775510204067\n",
      "INFO:root:Simulated 10341 events between sin(dec)=0.46938775510204067 and sin(dec)=0.510204081632653\n",
      "INFO:root:Simulated 10473 events between sin(dec)=0.510204081632653 and sin(dec)=0.5510204081632653\n",
      "INFO:root:Simulated 10447 events between sin(dec)=0.5510204081632653 and sin(dec)=0.5918367346938773\n",
      "INFO:root:Simulated 10812 events between sin(dec)=0.5918367346938773 and sin(dec)=0.6326530612244896\n",
      "INFO:root:Simulated 10875 events between sin(dec)=0.6326530612244896 and sin(dec)=0.6734693877551019\n",
      "INFO:root:Simulated 10910 events between sin(dec)=0.6734693877551019 and sin(dec)=0.7142857142857142\n",
      "INFO:root:Simulated 10994 events between sin(dec)=0.7142857142857142 and sin(dec)=0.7551020408163265\n",
      "INFO:root:Simulated 11106 events between sin(dec)=0.7551020408163265 and sin(dec)=0.7959183673469385\n",
      "INFO:root:Simulated 11218 events between sin(dec)=0.7959183673469385 and sin(dec)=0.8367346938775508\n",
      "INFO:root:Simulated 11233 events between sin(dec)=0.8367346938775508 and sin(dec)=0.8775510204081631\n",
      "INFO:root:Simulated 10660 events between sin(dec)=0.8775510204081631 and sin(dec)=0.9183673469387754\n",
      "INFO:root:Simulated 9397 events between sin(dec)=0.9183673469387754 and sin(dec)=0.9591836734693877\n",
      "INFO:root:Simulated 7659 events between sin(dec)=0.9591836734693877 and sin(dec)=1.0\n",
      "INFO:root:Simulated 219849 events in total\n"
     ]
    }
   ],
   "source": [
    "# We create an imaginary dataset season, between 50000 MJD and 55000 MJD, with 100% uptime\n",
    "\n",
    "bkg_time_pdf_dict = {\n",
    "    \"time_pdf_name\": \"fixed_ref_box\",\n",
    "    \"fixed_ref_time_mjd\": 50000,\n",
    "    \"pre_window\": 0.,\n",
    "    \"post_window\": 500.,\n",
    "    \"livetime\": True\n",
    "}\n",
    "\n",
    "# We take the rough normalisation of the atmospheric flux, ~10^8 GeV cm^-2 s^-1 sr^-1 at ~200 TeV\n",
    "\n",
    "f_200tev = (10. ** -8.)\n",
    "flux_norm_1_gev = f_200tev * ((2.e5) ** 1.7)\n",
    "\n",
    "bkg_flux_model = IdealBackgroundFluxModel(\n",
    "    flux_norm_1_gev,\n",
    "    bkg_time_pdf_dict=bkg_time_pdf_dict,\n",
    ")\n",
    "\n",
    "# We create a simulated dataset, containg only background, using the published effective areas for IceCube with 86 strings 2012\n",
    "\n",
    "potemkin_dataset.set_sim_params(\n",
    "    name=\"IC86-2012\",\n",
    "    bkg_flux_model=bkg_flux_model,\n",
    "    resimulate=True\n",
    ")"
   ]
  },
  {
   "cell_type": "markdown",
   "metadata": {},
   "source": [
    "We can investigate the properties of our simulated dataset:"
   ]
  },
  {
   "cell_type": "code",
   "execution_count": 3,
   "metadata": {},
   "outputs": [
    {
     "name": "stdout",
     "output_type": "stream",
     "text": [
      "dict_keys(['IC86-2012'])\n",
      "dict_keys(['IC86-2012'])\n"
     ]
    }
   ],
   "source": [
    "# simseason = potemkin_dataset.get_seasons(\"IC86-2012\")\n",
    "# print(icecube_ps_3_year.get_seasons(\"IC86-2012\"))\n",
    "# print(icecube_ps_3_year.get_single_season(\"IC86-2012\"))\n",
    "print(potemkin_dataset.get_seasons().keys())\n",
    "print(potemkin_dataset.get_seasons(\"IC86-2012\").keys())\n",
    "simseason = potemkin_dataset.get_single_season(\"IC86-2012\")\n",
    "# print(potemkin_dataset.get_seasons(\"IC86-2012\").keys())"
   ]
  },
  {
   "cell_type": "code",
   "execution_count": 4,
   "metadata": {},
   "outputs": [],
   "source": [
    "data = simseason.get_exp_data()"
   ]
  },
  {
   "cell_type": "code",
   "execution_count": 5,
   "metadata": {},
   "outputs": [
    {
     "name": "stdout",
     "output_type": "stream",
     "text": [
      "('ra', 'dec', 'logE', 'sigma', 'time', 'sinDec', 'raw_sigma')\n",
      "[(4.29228858, 0.03697125, 3.69441521, 0.01417927, 50183.67894468, 0.03696283, 0.01417927)\n",
      " (5.77170131, 0.05419848, 2.48549308, 0.03213151, 50065.65548595, 0.05417195, 0.03213151)\n",
      " (3.41302252, 0.02218301, 3.15177721, 0.01673769, 50322.12383959, 0.02218119, 0.01673769)\n",
      " (3.74944982, 0.0324151 , 2.74790452, 0.0236281 , 50383.01496549, 0.03240942, 0.0236281 )\n",
      " (6.02247068, 0.05137668, 2.17322056, 0.04605122, 50321.46873273, 0.05135408, 0.04605122)]\n"
     ]
    }
   ],
   "source": [
    "print(data.dtype.names)\n",
    "print(data[:5])"
   ]
  },
  {
   "cell_type": "code",
   "execution_count": 6,
   "metadata": {},
   "outputs": [
    {
     "data": {
      "text/plain": [
       "(array([10286., 15476., 20741., 22949., 24614., 25199., 26149., 26418.,\n",
       "        26708., 21309.]),\n",
       " array([0.02041717, 0.11837483, 0.21633248, 0.31429014, 0.4122478 ,\n",
       "        0.51020545, 0.60816311, 0.70612076, 0.80407842, 0.90203607,\n",
       "        0.99999373]),\n",
       " <a list of 10 Patch objects>)"
      ]
     },
     "execution_count": 6,
     "metadata": {},
     "output_type": "execute_result"
    },
    {
     "data": {
      "image/png": "[encoded data removed]",
      "text/plain": [
       "<Figure size 432x288 with 1 Axes>"
      ]
     },
     "metadata": {
      "needs_background": "light"
     },
     "output_type": "display_data"
    }
   ],
   "source": [
    "plt.hist(np.sin(data[\"dec\"]))"
   ]
  },
  {
   "cell_type": "code",
   "execution_count": 7,
   "metadata": {
    "scrolled": true
   },
   "outputs": [
    {
     "data": {
      "text/plain": [
       "(array([22057., 21800., 21599., 22202., 21910., 22059., 22197., 22088.,\n",
       "        22070., 21867.]),\n",
       " array([8.31599869e-05, 6.28392197e-01, 1.25670123e+00, 1.88501027e+00,\n",
       "        2.51331931e+00, 3.14162835e+00, 3.76993738e+00, 4.39824642e+00,\n",
       "        5.02655546e+00, 5.65486449e+00, 6.28317353e+00]),\n",
       " <a list of 10 Patch objects>)"
      ]
     },
     "execution_count": 7,
     "metadata": {},
     "output_type": "execute_result"
    },
    {
     "data": {
      "image/png": "[encoded data removed]",
      "text/plain": [
       "<Figure size 432x288 with 1 Axes>"
      ]
     },
     "metadata": {
      "needs_background": "light"
     },
     "output_type": "display_data"
    }
   ],
   "source": [
    "plt.hist(data[\"ra\"])"
   ]
  },
  {
   "cell_type": "code",
   "execution_count": 8,
   "metadata": {
    "scrolled": true
   },
   "outputs": [
    {
     "name": "stderr",
     "output_type": "stream",
     "text": [
      "WARNING:matplotlib.legend:No handles with labels found to put in legend.\n"
     ]
    },
    {
     "data": {
      "text/plain": [
       "<matplotlib.legend.Legend at 0x10c715a90>"
      ]
     },
     "execution_count": 8,
     "metadata": {},
     "output_type": "execute_result"
    },
    {
     "data": {
      "image/png": "[encoded data removed]",
      "text/plain": [
       "<Figure size 432x288 with 1 Axes>"
      ]
     },
     "metadata": {
      "needs_background": "light"
     },
     "output_type": "display_data"
    }
   ],
   "source": [
    "bins = plt.hist(data[\"logE\"], bins=100)\n",
    "\n",
    "# def fx(x):\n",
    "#     return (10.**x)**-3.7 * np.mean(bins[1][0:2]) ** 3.7 * np.mean(bins[0][0:2])\n",
    "\n",
    "# xrange = np.linspace(2.0, 5.0)\n",
    "\n",
    "# plt.plot(10.**xrange, fx(xrange), label=r\"E$^{-3.7}$\")\n",
    "plt.yscale(\"log\")\n",
    "plt.xscale(\"log\")\n",
    "plt.legend()\n"
   ]
  },
  {
   "cell_type": "code",
   "execution_count": 9,
   "metadata": {},
   "outputs": [
    {
     "data": {
      "text/plain": [
       "(array([22057., 22004., 21758., 21925., 21677., 22258., 22072., 21871.,\n",
       "        22222., 22005.]),\n",
       " array([50000.00463996, 50050.0039714 , 50100.00330284, 50150.00263428,\n",
       "        50200.00196572, 50250.00129716, 50300.0006286 , 50349.99996004,\n",
       "        50399.99929148, 50449.99862293, 50499.99795437]),\n",
       " <a list of 10 Patch objects>)"
      ]
     },
     "execution_count": 9,
     "metadata": {},
     "output_type": "execute_result"
    },
    {
     "data": {
      "image/png": "[encoded data removed]",
      "text/plain": [
       "<Figure size 432x288 with 1 Axes>"
      ]
     },
     "metadata": {
      "needs_background": "light"
     },
     "output_type": "display_data"
    }
   ],
   "source": [
    "plt.hist(data[\"time\"])"
   ]
  },
  {
   "cell_type": "code",
   "execution_count": 11,
   "metadata": {},
   "outputs": [
    {
     "data": {
      "text/plain": [
       "(array([  974., 28321., 43398., 34782., 28071., 29104., 21396., 14683.,\n",
       "        10901.,  8219.]),\n",
       " array([0.38865411, 0.66450429, 0.94035447, 1.21620465, 1.49205483,\n",
       "        1.767905  , 2.04375518, 2.31960536, 2.59545554, 2.87130572,\n",
       "        3.1471559 ]),\n",
       " <a list of 10 Patch objects>)"
      ]
     },
     "execution_count": 11,
     "metadata": {},
     "output_type": "execute_result"
    },
    {
     "data": {
      "image/png": "[encoded data removed]",
      "text/plain": [
       "<Figure size 432x288 with 1 Axes>"
      ]
     },
     "metadata": {
      "needs_background": "light"
     },
     "output_type": "display_data"
    }
   ],
   "source": [
    "plt.hist(np.degrees(data[\"sigma\"]))"
   ]
  },
  {
   "cell_type": "code",
   "execution_count": null,
   "metadata": {},
   "outputs": [],
   "source": []
  }
 ],
 "metadata": {
  "kernelspec": {
   "display_name": "fs-env",
   "language": "python",
   "name": "fs-env"
  },
  "language_info": {
   "codemirror_mode": {
    "name": "ipython",
    "version": 3
   },
   "file_extension": ".py",
   "mimetype": "text/x-python",
   "name": "python",
   "nbconvert_exporter": "python",
   "pygments_lexer": "ipython3",
   "version": "3.7.4"
  }
 },
 "nbformat": 4,
 "nbformat_minor": 2
}
