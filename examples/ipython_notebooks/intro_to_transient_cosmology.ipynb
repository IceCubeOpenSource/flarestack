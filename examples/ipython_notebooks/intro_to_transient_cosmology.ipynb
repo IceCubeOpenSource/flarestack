{
 "cells": [
  {
   "cell_type": "code",
   "execution_count": 1,
   "metadata": {},
   "outputs": [],
   "source": [
    "%matplotlib inline\n",
    "import matplotlib.pyplot as plt\n",
    "from flarestack import EnergyPDF\n",
    "from flarestack.cosmo import get_rate, get_diffuse_flux, calculate_transient_cosmology, get_diffuse_flux_contour\n",
    "from astropy import units as u\n",
    "import numpy as np\n",
    "import logging\n",
    "logging.getLogger().setLevel(\"INFO\")"
   ]
  },
  {
   "cell_type": "code",
   "execution_count": 2,
   "metadata": {},
   "outputs": [
    {
     "name": "stderr",
     "output_type": "stream",
     "text": [
      "INFO:root:No evolution specified. Assuming default evolution.\n",
      "INFO:root:Loaded evolution 'madau_14' (http://arxiv.org/abs/1403.0007v3)\n",
      "INFO:root:No rate specified. Assuming default rate.\n",
      "INFO:root:Loaded rate 'bochenek_20' (https://arxiv.org/abs/2005.10828)\n"
     ]
    },
    {
     "name": "stdout",
     "output_type": "stream",
     "text": [
      "Local FRB rate is 0.072 1 / (Mpc3 yr)\n"
     ]
    }
   ],
   "source": [
    "frb_rate = get_rate(\"frb\")\n",
    "print(f\"Local FRB rate is {frb_rate(0.0):.2g}\")"
   ]
  },
  {
   "cell_type": "markdown",
   "metadata": {},
   "source": [
    "Distance to SGR 1935+2154 is 4-16 kpc (https://arxiv.org/abs/2005.10828). Take 16, to be conservative!"
   ]
  },
  {
   "cell_type": "code",
   "execution_count": 3,
   "metadata": {},
   "outputs": [],
   "source": [
    "dist = 16 * u.kpc"
   ]
  },
  {
   "cell_type": "markdown",
   "metadata": {},
   "source": [
    "IceCube Limit is E2 dNdE = 5.2 × 10−2 GeV cm^-2 @ 1 GeV (http://www.astronomerstelegram.org/?read=13689)"
   ]
  },
  {
   "cell_type": "code",
   "execution_count": 22,
   "metadata": {},
   "outputs": [
    {
     "name": "stderr",
     "output_type": "stream",
     "text": [
      "INFO:flarestack.core.energy_pdf:Minimum Energy is 1e+03 GeV.\n",
      "INFO:flarestack.core.energy_pdf:Maximum Energy is 1e+06 GeV.\n"
     ]
    }
   ],
   "source": [
    "norm_energy = 1.*u.GeV\n",
    "spectrum_gamma = 2.0\n",
    "\n",
    "# dN/dE\n",
    "atel_flux_norm_lim = 5.2 * 10**-2. * (u. GeV / u.cm**2) / (norm_energy)**2.\n",
    "\n",
    "e_pdf_dict = {\n",
    "    \"energy_pdf_name\": \"power_law\",\n",
    "    \"gamma\": spectrum_gamma,\n",
    "    \"e_min_gev\": 10.**3,\n",
    "    \"e_max_gev\": 10.**6,\n",
    "}\n",
    "\n",
    "epdf = EnergyPDF.create(e_pdf_dict)"
   ]
  },
  {
   "cell_type": "code",
   "execution_count": 23,
   "metadata": {
    "scrolled": true
   },
   "outputs": [
    {
     "name": "stdout",
     "output_type": "stream",
     "text": [
      "Muon Neutrino Energy limit for SGR 1935+2154 is 1.8e+43 erg between 1e+03 GeV and 1e+06 GeV\n"
     ]
    }
   ],
   "source": [
    "e_lim = (atel_flux_norm_lim * epdf.fluence_integral() * norm_energy**2 * 4 * np.pi * dist.to(\"cm\")**2.).to(\"erg\")\n",
    "print(f\"Muon Neutrino Energy limit for SGR 1935+2154 is {e_lim:.2g} between {epdf.e_min:.2g} GeV and {epdf.e_max:.2g} GeV\")"
   ]
  },
  {
   "cell_type": "code",
   "execution_count": 24,
   "metadata": {},
   "outputs": [],
   "source": [
    "limits = [\n",
    "    (\"Standard Candle\", atel_flux_norm_lim),\n",
    "    (r\"$E_{\\nu} \\propto E_{FRB}$\", atel_flux_norm_lim*10.)\n",
    "]"
   ]
  },
  {
   "cell_type": "code",
   "execution_count": 26,
   "metadata": {},
   "outputs": [
    {
     "name": "stderr",
     "output_type": "stream",
     "text": [
      "INFO:flarestack.cosmo.icecube_diffuse_flux:Loaded contour 'northern_tracks_19' from https://arxiv.org/abs/1908.09551\n",
      "INFO:flarestack.cosmo.icecube_diffuse_flux:Loaded contour 'northern_tracks_19' from https://arxiv.org/abs/1908.09551\n",
      "INFO:flarestack.cosmo.neutrino_cosmology:Using the northern_tracks_19 best fit values of the diffuse flux.\n",
      "INFO:flarestack.cosmo.neutrino_cosmology:Diffuse Flux at 1 GeV: 3.6171164613737875e-07 1 / (cm2 GeV s sr)\n",
      "INFO:flarestack.cosmo.neutrino_cosmology:Diffuse Spectral Index is 2.28\n",
      "INFO:flarestack.core.energy_pdf:Minimum Energy is 1e+03 GeV.\n",
      "INFO:flarestack.core.energy_pdf:Maximum Energy is 1e+06 GeV.\n",
      "INFO:flarestack.cosmo.neutrino_cosmology:Neutrino Energy is 1.8e+43 erg\n",
      "INFO:flarestack.cosmo.neutrino_cosmology:Neutrino Flux at 1 GeV is 1.6e+45 1 / GeV\n",
      "INFO:flarestack.cosmo.neutrino_cosmology:Local rate is 0.072 1 / (Mpc3 yr)\n",
      "INFO:flarestack.cosmo.neutrino_cosmology:Cumulative sources at z=8.0: 2.9e+11\n",
      "INFO:flarestack.cosmo.neutrino_cosmology:Cumulative flux at z=8.0 (1 GeV): 2.4e-10 1 / (cm2 GeV s sr)\n",
      "INFO:flarestack.cosmo.neutrino_cosmology:Cumulative annual flux at z=8.0 (1 GeV): 0.0075 1 / (cm2 GeV sr)\n",
      "INFO:flarestack.cosmo.neutrino_cosmology:Fraction of diffuse flux at 1GeV: 0.00066\n",
      "INFO:flarestack.cosmo.neutrino_cosmology:Cumulative neutrino flux 2.4e-10 1 / (cm2 GeV s sr)\n",
      "INFO:flarestack.cosmo.neutrino_cosmology:Fraction of flux from nearby (z<0.1) sources: 0.057\n",
      "INFO:flarestack.cosmo.neutrino_cosmology:Fraction of flux from nearby (z<0.3) sources: 0.17\n",
      "INFO:flarestack.cosmo.icecube_diffuse_flux:Loaded contour 'northern_tracks_19' from https://arxiv.org/abs/1908.09551\n",
      "INFO:flarestack.cosmo.neutrino_cosmology:Using the northern_tracks_19 best fit values of the diffuse flux.\n",
      "INFO:flarestack.cosmo.neutrino_cosmology:Diffuse Flux at 1 GeV: 3.6171164613737875e-07 1 / (cm2 GeV s sr)\n",
      "INFO:flarestack.cosmo.neutrino_cosmology:Diffuse Spectral Index is 2.28\n",
      "INFO:flarestack.core.energy_pdf:Minimum Energy is 1e+03 GeV.\n",
      "INFO:flarestack.core.energy_pdf:Maximum Energy is 1e+06 GeV.\n",
      "INFO:flarestack.cosmo.neutrino_cosmology:Neutrino Energy is 1.8e+44 erg\n",
      "INFO:flarestack.cosmo.neutrino_cosmology:Neutrino Flux at 1 GeV is 1.6e+46 1 / GeV\n",
      "INFO:flarestack.cosmo.neutrino_cosmology:Local rate is 0.072 1 / (Mpc3 yr)\n",
      "INFO:flarestack.cosmo.neutrino_cosmology:Cumulative sources at z=8.0: 2.9e+11\n",
      "INFO:flarestack.cosmo.neutrino_cosmology:Cumulative flux at z=8.0 (1 GeV): 2.4e-09 1 / (cm2 GeV s sr)\n",
      "INFO:flarestack.cosmo.neutrino_cosmology:Cumulative annual flux at z=8.0 (1 GeV): 0.075 1 / (cm2 GeV sr)\n",
      "INFO:flarestack.cosmo.neutrino_cosmology:Fraction of diffuse flux at 1GeV: 0.0066\n",
      "INFO:flarestack.cosmo.neutrino_cosmology:Cumulative neutrino flux 2.4e-09 1 / (cm2 GeV s sr)\n",
      "INFO:flarestack.cosmo.neutrino_cosmology:Fraction of flux from nearby (z<0.1) sources: 0.057\n",
      "INFO:flarestack.cosmo.neutrino_cosmology:Fraction of flux from nearby (z<0.3) sources: 0.17\n"
     ]
    },
    {
     "data": {
      "text/plain": [
       "<matplotlib.legend.Legend at 0x7fdf09d95590>"
      ]
     },
     "execution_count": 26,
     "metadata": {},
     "output_type": "execute_result"
    },
    {
     "data": {
      "image/png": "[encoded data removed]",
      "text/plain": [
       "<Figure size 432x288 with 1 Axes>"
      ]
     },
     "metadata": {
      "needs_background": "light"
     },
     "output_type": "display_data"
    }
   ],
   "source": [
    "# Use joint diffuse flux fit (https://arxiv.org/abs/1507.03991)\n",
    "\n",
    "fit = \"northern_tracks_19\"\n",
    "\n",
    "plt.figure()\n",
    "ax = plt.subplot(111)\n",
    "\n",
    "best_fit, upper_butterfly, lower_butterfly, e_range = get_diffuse_flux_contour(fit=fit)\n",
    "\n",
    "plt.plot(e_range, best_fit(e_range) * e_range**2, label=\"IceCube Diffuse Flux\")\n",
    "\n",
    "plt.fill_between(e_range, upper_butterfly(e_range)* e_range**2, lower_butterfly(e_range)* e_range**2, alpha=0.3)\n",
    "\n",
    "for label, mean_flux_norm_lim in limits:\n",
    "    \n",
    "    lim_e_pdf_dict = dict(e_pdf_dict)\n",
    "    lim_e_pdf_dict[\"nu_flux_at_1_gev\"] = mean_flux_norm_lim * 4 * np.pi * dist**2.\n",
    "\n",
    "    integrated_nu_flux_1_gev = calculate_transient_cosmology(\n",
    "        lim_e_pdf_dict, frb_rate, \"frb_limit\", zmax=8.0, diffuse_fit=fit,\n",
    "    )\n",
    "        \n",
    "    x = [epdf.e_min, np.exp(0.5*(np.log(epdf.e_min) + np.log(epdf.e_max))), epdf.e_max]\n",
    "    y = np.array([integrated_nu_flux_1_gev.value for _ in range(3)]) \n",
    "\n",
    "    plt.errorbar(x, y, yerr=0.25*y, uplims=True, label=label)\n",
    "\n",
    "plt.yscale(\"log\")\n",
    "plt.xscale(\"log\")\n",
    "plt.xlabel(r\"$E_{\\nu} [GeV] $\")\n",
    "plt.ylabel(r\"$E_{\\nu}^{2} \\frac{dN}{dE}$ [GeV cm$^{-2}$ s$^{-1}$ sr$^{-1}$]\")\n",
    "ax.legend(loc='upper center', bbox_to_anchor=(0.5, 1.4),\n",
    "          ncol=2, fancybox=True, shadow=True, fontsize=12)"
   ]
  },
  {
   "cell_type": "code",
   "execution_count": null,
   "metadata": {},
   "outputs": [],
   "source": []
  },
  {
   "cell_type": "code",
   "execution_count": null,
   "metadata": {},
   "outputs": [],
   "source": []
  }
 ],
 "metadata": {
  "kernelspec": {
   "display_name": "fs-env",
   "language": "python",
   "name": "fs-env"
  },
  "language_info": {
   "codemirror_mode": {
    "name": "ipython",
    "version": 3
   },
   "file_extension": ".py",
   "mimetype": "text/x-python",
   "name": "python",
   "nbconvert_exporter": "python",
   "pygments_lexer": "ipython3",
   "version": "3.7.4"
  }
 },
 "nbformat": 4,
 "nbformat_minor": 2
}
