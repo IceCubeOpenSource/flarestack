{
 "cells": [
  {
   "cell_type": "code",
   "execution_count": 1,
   "metadata": {},
   "outputs": [
    {
     "name": "stdout",
     "output_type": "stream",
     "text": [
      "Saving converted numpy array to /Users/robertstein/flarestack__data/input/median_angular_resolution/all_sky_3_year/IC79-2010.pkl\n",
      "Saving converted numpy array to /Users/robertstein/flarestack__data/input/median_angular_resolution/all_sky_3_year/IC86-2011.pkl\n",
      "Saving converted numpy array to /Users/robertstein/flarestack__data/input/median_angular_resolution/all_sky_3_year/IC86-2012.pkl\n",
      "Saving to /Users/robertstein/flarestack__data/output/dataset_plots/energy_proxy_map/all_sky_3_year/IC79-2010-Upgoing.pdf\n",
      "Saving converted numpy array to /Users/robertstein/flarestack__data/input/energy_proxy_weighting/all_sky_3_year/IC79-2010.pkl\n",
      "Saving to /Users/robertstein/flarestack__data/output/dataset_plots/effective_area_plots/all_sky_3_year/IC79-2010.pdf\n",
      "Saving to /Users/robertstein/flarestack__data/output/dataset_plots/energy_proxy_map/all_sky_3_year/IC86-2011-Upgoing.pdf\n",
      "Saving converted numpy array to /Users/robertstein/flarestack__data/input/energy_proxy_weighting/all_sky_3_year/IC86-2011.pkl\n",
      "Saving to /Users/robertstein/flarestack__data/output/dataset_plots/effective_area_plots/all_sky_3_year/IC86-2011.pdf\n",
      "Saving to /Users/robertstein/flarestack__data/output/dataset_plots/energy_proxy_map/all_sky_3_year/IC86-2012-Upgoing.pdf\n",
      "Saving converted numpy array to /Users/robertstein/flarestack__data/input/energy_proxy_weighting/all_sky_3_year/IC86-2012.pkl\n",
      "Saving to /Users/robertstein/flarestack__data/output/dataset_plots/effective_area_plots/all_sky_3_year/IC86-2012.pdf\n"
     ]
    }
   ],
   "source": [
    "%matplotlib inline\n",
    "import matplotlib.pyplot as plt\n",
    "import numpy as np\n",
    "from flarestack import analyse, ResultsHandler\n",
    "from flarestack.data.simulate.potemkin import potemkin_dataset, IdealBackgroundFluxModel\n",
    "from flarestack.utils.prepare_catalogue import ps_catalogue_name\n",
    "from flarestack.shared import flux_to_k\n",
    "import logging\n",
    "logging.getLogger().setLevel(\"INFO\")"
   ]
  },
  {
   "cell_type": "code",
   "execution_count": 2,
   "metadata": {},
   "outputs": [
    {
     "name": "stderr",
     "output_type": "stream",
     "text": [
      "INFO:root:Minimum Energy is 100.0 GeV.\n",
      "INFO:root:Maximum Energy is 10000000.0 GeV\n",
      "INFO:root:Simulating events:\n",
      "INFO:root:Simulated 3599 events between sin(dec)=0.020408163265306145 and sin(dec)=0.06122448979591821\n",
      "INFO:root:Simulated 4590 events between sin(dec)=0.06122448979591821 and sin(dec)=0.1020408163265305\n",
      "INFO:root:Simulated 5628 events between sin(dec)=0.1020408163265305 and sin(dec)=0.1428571428571428\n",
      "INFO:root:Simulated 6457 events between sin(dec)=0.1428571428571428 and sin(dec)=0.18367346938775508\n",
      "INFO:root:Simulated 7604 events between sin(dec)=0.18367346938775508 and sin(dec)=0.22448979591836715\n",
      "INFO:root:Simulated 8280 events between sin(dec)=0.22448979591836715 and sin(dec)=0.26530612244897944\n",
      "INFO:root:Simulated 9050 events between sin(dec)=0.26530612244897944 and sin(dec)=0.30612244897959173\n",
      "INFO:root:Simulated 9206 events between sin(dec)=0.30612244897959173 and sin(dec)=0.346938775510204\n",
      "INFO:root:Simulated 9576 events between sin(dec)=0.346938775510204 and sin(dec)=0.3877551020408163\n",
      "INFO:root:Simulated 9951 events between sin(dec)=0.3877551020408163 and sin(dec)=0.4285714285714284\n",
      "INFO:root:Simulated 10183 events between sin(dec)=0.4285714285714284 and sin(dec)=0.46938775510204067\n",
      "INFO:root:Simulated 10414 events between sin(dec)=0.46938775510204067 and sin(dec)=0.510204081632653\n",
      "INFO:root:Simulated 10336 events between sin(dec)=0.510204081632653 and sin(dec)=0.5510204081632653\n",
      "INFO:root:Simulated 10568 events between sin(dec)=0.5510204081632653 and sin(dec)=0.5918367346938773\n",
      "INFO:root:Simulated 10830 events between sin(dec)=0.5918367346938773 and sin(dec)=0.6326530612244896\n",
      "INFO:root:Simulated 10738 events between sin(dec)=0.6326530612244896 and sin(dec)=0.6734693877551019\n",
      "INFO:root:Simulated 10798 events between sin(dec)=0.6734693877551019 and sin(dec)=0.7142857142857142\n",
      "INFO:root:Simulated 11073 events between sin(dec)=0.7142857142857142 and sin(dec)=0.7551020408163265\n",
      "INFO:root:Simulated 10944 events between sin(dec)=0.7551020408163265 and sin(dec)=0.7959183673469385\n",
      "INFO:root:Simulated 11487 events between sin(dec)=0.7959183673469385 and sin(dec)=0.8367346938775508\n",
      "INFO:root:Simulated 11063 events between sin(dec)=0.8367346938775508 and sin(dec)=0.8775510204081631\n",
      "INFO:root:Simulated 10634 events between sin(dec)=0.8775510204081631 and sin(dec)=0.9183673469387754\n",
      "INFO:root:Simulated 9544 events between sin(dec)=0.9183673469387754 and sin(dec)=0.9591836734693877\n",
      "INFO:root:Simulated 7596 events between sin(dec)=0.9591836734693877 and sin(dec)=1.0\n",
      "INFO:root:Simulated 220149 events in total\n"
     ]
    }
   ],
   "source": [
    "# We create an imaginary dataset season, between 50000 MJD and 55000 MJD, with 100% uptime\n",
    "\n",
    "bkg_time_pdf_dict = {\n",
    "    \"time_pdf_name\": \"fixed_ref_box\",\n",
    "    \"fixed_ref_time_mjd\": 50000,\n",
    "    \"pre_window\": 0.,\n",
    "    \"post_window\": 500.,\n",
    "    \"livetime\": True\n",
    "}\n",
    "\n",
    "# We take the rough normalisation of the atmospheric flux, ~10^8 GeV cm^-2 s^-1 sr^-1 at ~200 TeV\n",
    "\n",
    "f_200tev = (10. ** -8.)\n",
    "flux_norm_1_gev = f_200tev * ((2.e5) ** 1.7)\n",
    "\n",
    "bkg_flux_model = IdealBackgroundFluxModel(\n",
    "    flux_norm_1_gev,\n",
    "    bkg_time_pdf_dict=bkg_time_pdf_dict,\n",
    ")\n",
    "\n",
    "# We create a simulated dataset, containg only background, using the published effective areas for IceCube with 86 strings 2012\n",
    "\n",
    "potemkin_dataset.set_sim_params(\n",
    "    name=\"IC86-2012\",\n",
    "    bkg_flux_model=bkg_flux_model,\n",
    "#     resimulate=True\n",
    ")"
   ]
  },
  {
   "cell_type": "code",
   "execution_count": 3,
   "metadata": {},
   "outputs": [
    {
     "name": "stderr",
     "output_type": "stream",
     "text": [
      "INFO:root:Saving to /Users/robertstein/flarestack__data/input/catalogues/single_source/sindec_0.50.npy\n"
     ]
    }
   ],
   "source": [
    "# Setup analysis, injecting an E^-2 source\n",
    "\n",
    "inj_dict = {\n",
    "    \"injection_sig_time_pdf\": {\n",
    "        \"time_pdf_name\": \"steady\"\n",
    "    },\n",
    "    \"injection_energy_pdf\": {\n",
    "        \"energy_pdf_name\": \"power_law\",\n",
    "        \"gamma\": 2.0\n",
    "    }\n",
    "}\n",
    "\n",
    "# Perform a \"standard\" analysis (fitting spectral index and ns)\n",
    "\n",
    "llh_dict = {\n",
    "    \"llh_name\": \"standard\",\n",
    "    \"llh_sig_time_pdf\": {\n",
    "        \"time_pdf_name\": \"steady\"\n",
    "    },\n",
    "    \"llh_bkg_time_pdf\":  {\n",
    "        \"time_pdf_name\": \"steady\"\n",
    "    },\n",
    "    \"llh_energy_pdf\": {\n",
    "        \"energy_pdf_name\": \"power_law\"\n",
    "    }\n",
    "}\n",
    "\n",
    "# Analysis with \"source catalogue\" consisting of a single source at sindec=0.5\n",
    "\n",
    "mh_dict = {\n",
    "            \"name\": \"examples/analysis_with_sim\",\n",
    "            \"mh_name\": \"fixed_weights\",\n",
    "            \"dataset\": potemkin_dataset.get_seasons(\"IC86-2012\"),\n",
    "            \"catalogue\": ps_catalogue_name(0.5),\n",
    "            \"inj_dict\": inj_dict,\n",
    "            \"llh_dict\": llh_dict,\n",
    "            \"n_steps\": 5,\n",
    "            \"n_trials\": 30,\n",
    "            \"scale\": 100.\n",
    "        }"
   ]
  },
  {
   "cell_type": "code",
   "execution_count": 4,
   "metadata": {},
   "outputs": [
    {
     "name": "stdout",
     "output_type": "stream",
     "text": [
      "<flarestack.data.simulate.potemkin.PotemkinSeason object at 0x11b8fc850>\n"
     ]
    }
   ],
   "source": [
    "print(potemkin_dataset.get_single_season(\"IC86-2012\"))"
   ]
  },
  {
   "cell_type": "code",
   "execution_count": 5,
   "metadata": {},
   "outputs": [
    {
     "name": "stderr",
     "output_type": "stream",
     "text": [
      "INFO:root:Using 'standard' LLH class\n",
      "INFO:root:Initialising Injector for IC86-2012\n",
      "INFO:root:Saving to\n",
      "INFO:root:Using 'standard' LLH class\n",
      "INFO:root:Using 'standard' LLH class\n",
      "INFO:root:Added 420 trials to queue. Now processing.\n",
      "INFO: 2020-05-10 13:58:32,538 - 88028 - Using 'standard' LLH class\n",
      "INFO:root:420 tasks remaining.\n",
      "INFO: 2020-05-10 13:58:32,542 - 88029 - Using 'standard' LLH class\n",
      "INFO:root:Saving IC86-2012 acceptance values to: /Users/robertstein/flarestack__data/input/acceptance_functions/SimCube_default/IC86-2012.pkl\n",
      "INFO: 2020-05-10 13:58:33,664 - 88029 - Saving IC86-2012 acceptance values to: /Users/robertstein/flarestack__data/input/acceptance_functions/SimCube_default/IC86-2012.pkl\n",
      "INFO:root:Saving IC86-2012 acceptance values to: /Users/robertstein/flarestack__data/input/acceptance_functions/SimCube_default/IC86-2012.pkl\n",
      "INFO: 2020-05-10 13:58:33,671 - 88028 - Saving IC86-2012 acceptance values to: /Users/robertstein/flarestack__data/input/acceptance_functions/SimCube_default/IC86-2012.pkl\n",
      "INFO:root:Making splines for IC86-2012\n",
      "INFO: 2020-05-10 13:58:36,385 - 88029 - Making splines for IC86-2012\n",
      "INFO:root:Making splines for IC86-2012\n",
      "INFO: 2020-05-10 13:58:36,401 - 88028 - Making splines for IC86-2012\n",
      "INFO:root:Saving to /Users/robertstein/flarestack__data/input/SoB_splines/SimCube_default/IC86-2012.pkl\n",
      "INFO: 2020-05-10 13:58:38,754 - 88029 - Saving to /Users/robertstein/flarestack__data/input/SoB_splines/SimCube_default/IC86-2012.pkl\n",
      "INFO:root:Saving to /Users/robertstein/flarestack__data/input/SoB_splines/SimCube_default/IC86-2012.pkl\n",
      "INFO: 2020-05-10 13:58:38,777 - 88028 - Saving to /Users/robertstein/flarestack__data/input/SoB_splines/SimCube_default/IC86-2012.pkl\n",
      "INFO:root:120 tasks remaining.\n",
      "INFO:root:Finished processing 420 tasks.\n",
      "INFO:root:Fraction of overfluctuations is 0.08 above 0.00 (N_trials=300) (Scale=0)\n",
      "INFO:root:Fraction of overfluctuations is 0.40 above 0.00 (N_trials=30) (Scale=25)\n",
      "INFO:root:Fraction of overfluctuations is 0.67 above 0.00 (N_trials=30) (Scale=50)\n",
      "INFO:root:Fraction of overfluctuations is 0.87 above 0.00 (N_trials=30) (Scale=75)\n",
      "INFO:root:Fraction of overfluctuations is 0.80 above 0.00 (N_trials=30) (Scale=100)\n",
      "WARNING:root:The sensitivity is beyond the range of the tested scales.The numnber is probably not good.\n",
      "INFO:root:EXTRAPOLATED Sensitivity is 1.13e-07\n",
      "INFO:root:Fraction of overfluctuations is 0.00 above 25.68 (N_trials=300) (Scale=0)\n",
      "INFO:root:Fraction of overfluctuations is 0.00 above 25 (N_trials=300) (Scale=0)\n",
      "INFO:root:Fraction of overfluctuations is 0.00 above 25.68 (N_trials=30) (Scale=25)\n",
      "INFO:root:Fraction of overfluctuations is 0.00 above 25 (N_trials=30) (Scale=25)\n",
      "INFO:root:Fraction of overfluctuations is 0.03 above 25.68 (N_trials=30) (Scale=50)\n",
      "INFO:root:Fraction of overfluctuations is 0.03 above 25 (N_trials=30) (Scale=50)\n",
      "INFO:root:Fraction of overfluctuations is 0.17 above 25.68 (N_trials=30) (Scale=75)\n",
      "INFO:root:Fraction of overfluctuations is 0.17 above 25 (N_trials=30) (Scale=75)\n",
      "INFO:root:Fraction of overfluctuations is 0.50 above 25.68 (N_trials=30) (Scale=100)\n",
      "INFO:root:Fraction of overfluctuations is 0.50 above 25 (N_trials=30) (Scale=100)\n",
      "WARNING:root:RuntimeError for discovery potential: \n",
      " Optimal parameters not found: Number of calls to function has reached maxfev = 800.\n",
      "INFO:root:Saving bias plot to /Users/robertstein/flarestack__data/output/plots/examples/analysis_with_sim/bias_n_s.pdf\n",
      "INFO:root:Saving bias plot to /Users/robertstein/flarestack__data/output/plots/examples/analysis_with_sim/bias_gamma.pdf\n"
     ]
    }
   ],
   "source": [
    "analyse(mh_dict, n_cpu=2, cluster=False)\n",
    "\n",
    "rh = ResultsHandler(mh_dict)"
   ]
  },
  {
   "cell_type": "code",
   "execution_count": null,
   "metadata": {},
   "outputs": [],
   "source": []
  }
 ],
 "metadata": {
  "kernelspec": {
   "display_name": "fs-env",
   "language": "python",
   "name": "fs-env"
  },
  "language_info": {
   "codemirror_mode": {
    "name": "ipython",
    "version": 3
   },
   "file_extension": ".py",
   "mimetype": "text/x-python",
   "name": "python",
   "nbconvert_exporter": "python",
   "pygments_lexer": "ipython3",
   "version": "3.7.4"
  }
 },
 "nbformat": 4,
 "nbformat_minor": 2
}
