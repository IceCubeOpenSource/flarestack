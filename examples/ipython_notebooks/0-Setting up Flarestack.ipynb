{
 "cells": [
  {
   "cell_type": "markdown",
   "metadata": {},
   "source": [
    "# Setup\n",
    "The first step when using flarestack is to define a path for data to be saved to. This directory is desgined to be 'disposable', so can be regenerated if necessary. It is a central place for saving both plots, analysis results and values that only need to be calculated once, such as inputs for splines. Once you define the parent directory, a subdirectory is automatically created. *This only needs to be done once, so you can skip this step on future occasions!* "
   ]
  },
  {
   "cell_type": "code",
   "execution_count": 1,
   "metadata": {},
   "outputs": [
    {
     "name": "stdout",
     "output_type": "stream",
     "text": [
      "Setting scratch path to /Users/avocado/\n"
     ]
    }
   ],
   "source": [
    "from pathlib import Path\n",
    "home = str(Path.home())\n",
    "from flarestack.precompute import run_precompute, set_scratch_directory\n",
    "set_scratch_directory(home)"
   ]
  },
  {
   "cell_type": "code",
   "execution_count": 2,
   "metadata": {
    "scrolled": true
   },
   "outputs": [
    {
     "name": "stdout",
     "output_type": "stream",
     "text": [
      "\n",
      " \n",
      "\n",
      "********************************************************************\n",
      "*                                                                  *\n",
      "*                Initialising setup for FlareStack                 *\n",
      "*                                                                  *\n",
      "********************************************************************\n",
      "\n",
      "\n",
      "  Initialising directory for data storage. This could be a scratch  \n",
      "                   space or local directory.                        \n",
      "\n",
      "\n",
      "The following parent directory has been found in config.py: \n",
      "\n",
      "\t /Users/avocado/\n",
      "\n",
      "A new data storage directory will be created at: \n",
      "\n",
      "\t /Users/avocado/flarestack__data/\n",
      "\n",
      "Found Directory: /Users/avocado/flarestack__data/\n",
      "Found Directory: /Users/avocado/flarestack__data/input/\n",
      "Found Directory: /Users/avocado/flarestack__data/storage/\n",
      "Found Directory: /Users/avocado/flarestack__data/output/\n",
      "Found Directory: /Users/avocado/flarestack__data/cluster/\n",
      "Found Directory: /Users/avocado/flarestack__data/input/pull_corrections/\n",
      "Found Directory: /Users/avocado/flarestack__data/cluster/logs/\n",
      "Found Directory: /Users/avocado/flarestack__data/input/catalogues/\n",
      "Found Directory: /Users/avocado/flarestack__data/input/acceptance_functions/\n",
      "Found Directory: /Users/avocado/flarestack__data/storage/pickles/\n",
      "Found Directory: /Users/avocado/flarestack__data/output/plots/\n",
      "Found Directory: /Users/avocado/flarestack__data/input/SoB_splines/\n",
      "Found Directory: /Users/avocado/flarestack__data/input/analysis/\n",
      "Found Directory: /Users/avocado/flarestack__data/output/plots/illustrations/\n",
      "Found Directory: /Users/avocado/flarestack__data/input/catalogues/transients/\n",
      "Found Directory: /Users/avocado/flarestack__data/input/bkg_splines/\n",
      "Found Directory: /Users/avocado/flarestack__data/output/dataset_plots/\n",
      "Found Directory: /Users/avocado/flarestack__data/output/limits/\n",
      "Found Directory: /Users/avocado/flarestack__data/input/pull_corrections/pulls/\n",
      "Found Directory: /Users/avocado/flarestack__data/input/pull_corrections/floors/\n",
      "Found Directory: /Users/avocado/flarestack__data/storage/cache/\n",
      "Found Directory: /Users/avocado/flarestack__data/storage/cache/catalogue_cache/\n",
      "Found Directory: /Users/avocado/flarestack__data/input/public_datasets/\n",
      "Found Directory: /Users/avocado/flarestack__data/input/energy_proxy_weighting/\n",
      "Found Directory: /Users/avocado/flarestack__data/output/dataset_plots/effective_area_plots/\n",
      "Found Directory: /Users/avocado/flarestack__data/input/median_angular_resolution/\n",
      "Found Directory: /Users/avocado/flarestack__data/output/dataset_plots/angular_resolution_plots/\n",
      "\n",
      "\n",
      "********************************************************************\n",
      "*                                                                  *\n",
      "*                    Generating Cluster Scripts                    *\n",
      "*                                                                  *\n",
      "********************************************************************\n",
      "\n",
      "\n",
      "Host avocados-MacBook-Air.local not recognised.\n",
      "No Cluster Scripts generated.\n",
      "\n",
      "\n",
      "********************************************************************\n",
      "*                                                                  *\n",
      "*                 Initialising catalogue creation                  *\n",
      "*                                                                  *\n",
      "********************************************************************\n",
      "\n",
      "\n",
      "Making single-source catalogues for the following sin(declinations):\n",
      "[ 1.    0.95  0.9   0.85  0.8   0.75  0.7   0.65  0.6   0.55  0.5   0.45\n",
      "  0.4   0.35  0.3   0.25  0.2   0.15  0.1   0.05  0.   -0.05 -0.1  -0.15\n",
      " -0.2  -0.25 -0.3  -0.35 -0.4  -0.45 -0.5  -0.55 -0.6  -0.65 -0.7  -0.75\n",
      " -0.8  -0.85 -0.9  -0.95 -1.  ] \n",
      "\n",
      "Saving to /Users/avocado/flarestack__data/input/catalogues/single_source/sindec_-1.00.npy\n",
      "\n",
      "Single Source catalogues created! \n",
      "\n",
      "********************************************************************\n",
      "*                                                                  *\n",
      "*                     Checking data directories                    *\n",
      "*                                                                  *\n",
      "********************************************************************\n",
      "Found: /Users/avocado/flarestack__data/input/public_datasets/all_sky_3_year/events/IC79-2010.npy\n",
      "Found: /Users/avocado/flarestack__data/input/public_datasets/all_sky_3_year/events/pseudo_mc/IC79-2010.npy\n",
      "Found: /Users/avocado/flarestack__data/input/public_datasets/all_sky_3_year/events/IC86-2011.npy\n",
      "Found: /Users/avocado/flarestack__data/input/public_datasets/all_sky_3_year/events/pseudo_mc/IC86-2011.npy\n",
      "Found: /Users/avocado/flarestack__data/input/public_datasets/all_sky_3_year/events/IC86-2012.npy\n",
      "Found: /Users/avocado/flarestack__data/input/public_datasets/all_sky_3_year/events/pseudo_mc/IC86-2012.npy\n"
     ]
    }
   ],
   "source": [
    "from flarestack.data.icecube.public.all_sky_point_source.all_sky_3_year import ps_3_year\n",
    "run_precompute(ps_3_year.get_seasons(), ask=False)"
   ]
  },
  {
   "cell_type": "code",
   "execution_count": null,
   "metadata": {},
   "outputs": [],
   "source": []
  }
 ],
 "metadata": {
  "kernelspec": {
   "display_name": "fs_env",
   "language": "python",
   "name": "fs_env"
  },
  "language_info": {
   "codemirror_mode": {
    "name": "ipython",
    "version": 3
   },
   "file_extension": ".py",
   "mimetype": "text/x-python",
   "name": "python",
   "nbconvert_exporter": "python",
   "pygments_lexer": "ipython3",
   "version": "3.7.3"
  }
 },
 "nbformat": 4,
 "nbformat_minor": 2
}
